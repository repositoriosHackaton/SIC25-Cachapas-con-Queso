{
 "cells": [
  {
   "cell_type": "code",
   "execution_count": 3,
   "metadata": {},
   "outputs": [
    {
     "name": "stdout",
     "output_type": "stream",
     "text": [
      "{'levadura nutricional', 'tomates', 'tomate', 'pasta integral', 'polvos de hornear', 'cebollines', 'camote', 'hojas verdes', 'atún', 'miel de abeja', 'semillas de girasol', 'camarones', 'flores de calabaza', 'cereal de arroz tostado', 'jugo de lima', 'cornmeal', 'acelga', 'espinacas', 'menta', 'pimiento morrón verde', 'pasta de tomate', 'salsa', 'tortilla de harina integral', 'tortillas de harina', 'butternut', 'salsa para pasta', 'col', 'carne', 'margarina', 'arroz moreno', 'queso mozarela', 'cebollas', 'salsa de chile rojo', 'maicena', 'tomillo', 'pimienta cayena', 'macarrones', 'melaza', 'queso parmesano', 'frijoles blancos', 'caldo vegetal', 'arándanos', 'tilapia', 'zanahoria', 'chile morrón verde', 'jugo de limón verde', 'nueces', 'yogur griego', 'esencia de vainilla', 'puré de manzana', 'cúrcuma', 'jamón', 'pimiento dulce', 'orzo', 'kidney', 'coliflor', 'pumpkin pie spice', 'pimientos morrón verdes', 'piña', 'caracoles', 'pasas', 'azúcar', 'pasta', 'caldo de vegetales', 'frutos secos', 'chirivías', 'cereal de hojuelas de maíz', 'arándanos rojos secos', 'queso monterrey jack', 'suero de leche', 'azúcar moreno', 'banana', 'hojuelas de pimienta roja', 'english muffin', 'betabeles', 'macarrón', 'puerros', 'harina blanca', 'mayonesa', 'pepinillo', 'aceite de maíz', 'salsa de arándanos rojos', 'salsa de soya', 'pasta de tahini', 'mantequilla', 'tortillas de trigo integral', 'calabaza', 'mostaza', 'salsa de espagueti', 'coco', 'pimiento verde', 'tortillas', 'puré de calabaza', 'vinagre de sidra', 'verdura', 'jengibre', 'clavo', 'pimientos', 'hongos', 'aceite', 'miel', 'comino', 'elote', 'filetes de bacalao', 'betarragas', 'frijoles rojos', 'espagueti de trigo integral', 'salsa de pepinillo', 'ajo', 'pasta de semillas de sésamo', 'agua', 'leche en polvo', 'peras', 'páprika', 'harina de trigo integral', 'papa blanca', 'pepino', 'pimiento dulce rojo', 'condimento italiano', 'guisantes', 'cranberries', 'salmón', 'pimientos dulces', 'pimienta', 'pasta manicotti', 'ejotes', 'camotes', 'harina integral', 'maíz', 'ajo en polvo', 'salsa de tomates', 'azúcar blanca', 'honeydew', 'jugo de piña', 'panecillo', 'plátano', 'salsa de pizza', 'rábanos', 'tahini', 'pechugas de pollo', 'clavo de olor', 'consomé de pollo', 'polvo de hornear', 'jugo de mango', 'parsnips', 'semillas', 'polvo para hornear', 'pavo molido', 'curry', 'leche', 'dill weed', 'leche de soya', 'jugo de naranja', 'aceitunas negras', 'bok choy', 'cheddar', 'naranjas', 'clavos de olor', 'vinagre', 'melón', 'consomé de vegetal', 'queso oaxaca', 'chile jalapeño', 'queso ricota', 'champiñones', 'salsa de barbacoa', 'cerezas', 'pimientos rojos', 'aderezo italiano', 'huachinango', 'sopa de pollo', 'arroz blanco', 'eneldo', 'bicarbonato de soda', 'pimienta de cayena', 'aceite de canola', 'cuscús de trigo integral', 'crema de maní', 'chile campana', 'arándanos azules', 'frijoles', 'chirivía', 'pimienta negra', 'orégano', 'bananas', 'ají en polvo', 'tofu', 'pico de gallo', 'frijoles lima', 'swiss chard', 'queso gratinado', 'pimienta roja', 'cereal de avena', 'cebolla roja', 'pescado', 'pimentón', 'crema agria', 'pimiento', 'verduras', 'pacanas', 'salsa de chili', 'granola', 'harina de maíz', 'berza', 'consomé de vegetales', 'manzana', 'queso cottage', 'filete de pescado', 'sopa de crema de pollo', 'leche evaporada', 'mantequilla de maní', 'hojuelas de cereal', 'harina', 'aderezo para ensalada', 'garbanzos', 'pimiento rojo', 'col rizada', 'epazote', 'chile campana verde', 'vainilla', 'carne de res', 'condimento', 'duraznos', 'cayenne', 'berenjena', 'salsa de tomate', 'chiles rojos', 'apio de campo', 'brócoli', 'jugo de manzana', 'aceitunas', 'judías verdes', 'ralladura de limón', 'migas de pan', 'tocino', 'cilantro', 'jugo de limón', 'penne', 'yogur', 'higos', 'frijoles refritos', 'zucchini', 'delicata', 'cacao', 'fruta seca', 'canela', 'albahaca', 'tomate guisado', 'naranja', 'pavo', 'sal', 'chile verde', 'aceite de oliva', 'pepper jack', 'consomé vegetal', 'calabacín', 'hojas de wantán', 'queso mozzarella', 'puré de fruta', 'yogurt', 'mantequilla de cacahuate', 'marionberries', 'nueces de castilla', 'queso cheddar', 'salchichón polaco', 'gorda', 'migajas de pan', 'fresas', 'arándanos rojos', 'cáscara de limón', 'cubitos de pan', 'condimento para tacos', 'huevos', 'vinagre de arroz', 'buttermilk', 'habichuelas', 'sal sazonada', 'extracto de almendras', 'cebollín', 'aceite vegetal', 'carne molida', 'cebolla', 'castañas de agua', 'pimiento morrón', 'frijoles mung', 'espaguetis', 'crema', 'lomo de res', 'pera', 'arroz integral', 'carne de cerdo', 'bayas', 'chile rojo', 'repollo', 'zanahorias', 'tortillas de maíz', 'frijoles de ojo negro', 'carne molida de res', 'coles de bruselas', 'queso monterey jack', 'yogur de limón', 'almendras', 'calabacines', 'queso suizo', 'bellota', 'quinoa', 'pasta para lasaña', 'hielo', 'azúcar morena', 'ñame', 'pollo', 'melón verde', 'romero', 'aceite de ajonjolí', 'papas', 'queso feta', 'vegetales', 'caldo de verduras', 'bacalao', 'choclo', 'arándanos secos', 'espárragos', 'pimientos morrones', 'arroz salvaje', 'nuez moscada', 'apio', 'fruta deshidratada', 'pepinos', 'repollo morado', 'chile pimiento', 'mango', 'kielbasa', 'claras de huevo', 'queso', 'col forrajera', 'perejil', 'hojas de mostaza', 'jengibre en polvo', 'sandía', 'mandarinas', 'caldo de pollo', 'chile morrón', 'curry en polvo', 'harina masa', 'kale', 'condimento para pastel de calabaza', 'hortalizas verdes', 'okra', 'chile serrano', 'guineo', 'frambuesas', 'frijoles kidney', 'frijoles negros', 'cebolla blanca', 'hojuelas de chile rojo', 'leche de almendras', 'salsa picante', 'chile molido', 'papa', 'plátanos', 'pan', 'cebada', 'arvejas', 'condimento cajún', 'kiwi', 'pimiento morrón rojo', 'collard greens', 'moras', 'cayena', 'sustituto de huevo', 'nueces de la india', 'pasta rotini', 'castañas de cajú', 'col china', 'salsa para enchiladas', 'pretzels', 'tabasco', 'aderezo ranch', 'condimento criollo', 'cerdo', 'chícharos', 'aguacate', 'remolachas', 'espinaca', 'puerro', 'bicarbonato de sodio', 'fruta', 'avena', 'pechuga de pollo', 'fideos ramen', 'panecillos ingleses', 'cereal integral', 'pasta de huevo', 'filetes de pescado', 'yogur de piña colada', 'arroz', 'cuscús', 'huevo', 'pasta penne', 'chiles', 'lentejas', 'hierbas italianas', 'frijoles pintos', 'pan integral', 'caldo', 'pimientas de jamaica', 'chicharos', 'cebolla en polvo', 'aceite de sésamo', 'calabacita', 'cebolla verde', 'chives', 'sopa de crema de hongos', 'pasta ramen', 'queso crema', 'chile en polvo', 'rotini', 'semillas de sésamo', 'pasta de concha', 'kiwis', 'chiles verdes', 'calabacitas', 'walnuts', 'manzanas', 'salvia', 'lechuga', 'consomé', 'limón', 'trigo bulgur', 'crema de cacahuate'}\n",
      "430\n"
     ]
    }
   ],
   "source": [
    "with open(\"ingredientes.txt\", \"r\", encoding=\"utf-8\") as file:\n",
    "    ingredientes = {line.strip() for line in file}\n",
    "\n",
    "print(ingredientes)\n",
    "print(len(ingredientes))"
   ]
  },
  {
   "cell_type": "code",
   "execution_count": 17,
   "metadata": {},
   "outputs": [
    {
     "name": "stdout",
     "output_type": "stream",
     "text": [
      "['levadura nutricional', 'tomate', 'miel de abeja', 'flores de calabaza', 'col', 'carne', 'salsa de chile rojo', 'macarrones', 'melaza', 'jugo de limón verde', 'jamón', 'pumpkin pie spice', 'frutos secos', 'chirivías', 'banana', 'english muffin', 'salsa de soya', 'clavo', 'pimientos', 'aceite', 'ajo', 'papa blanca', 'pepino', 'pimiento dulce rojo', 'rábanos', 'clavo de olor', 'parsnips', 'pavo molido', 'leche', 'bok choy', 'melón', 'queso ricota', 'champiñones', 'salsa de barbacoa', 'cuscús de trigo integral', 'orégano', 'queso gratinado', 'cereal de avena', 'sopa de crema de pollo', 'duraznos', 'judías verdes', 'penne', 'pepper jack', 'salchichón polaco', 'fresas', 'arándanos rojos', 'condimento para tacos', 'huevos', 'buttermilk', 'aceite vegetal', 'cebolla', 'crema', 'chile rojo', 'tortillas de maíz', 'almendras', 'hielo', 'queso feta', 'choclo', 'hojas de mostaza', 'sandía', 'harina masa', 'condimento para pastel de calabaza', 'okra', 'hojuelas de chile rojo', 'plátanos', 'nueces de la india', 'col china', 'cerdo', 'chícharos', 'fruta', 'arroz', 'lentejas', 'chives', 'queso crema', 'semillas de sésamo', 'calabacitas', 'manzanas', 'salvia']\n",
      "['camote', 'camarones', 'cornmeal', 'espinacas', 'pimienta cayena', 'nueces', 'suero de leche', 'azúcar moreno', 'hojuelas de pimienta roja', 'mantequilla', 'calabaza', 'vinagre de sidra', 'agua', 'leche en polvo', 'pimientos dulces', 'pasta manicotti', 'salsa de tomates', 'panecillo', 'consomé de pollo', 'dill weed', 'consomé de vegetal', 'aderezo italiano', 'pescado', 'crema agria', 'pacanas', 'manzana', 'chile campana verde', 'cayenne', 'aceitunas', 'higos', 'cacao', 'fruta seca', 'albahaca', 'calabacín', 'puré de fruta', 'mantequilla de cacahuate', 'marionberries', 'habichuelas', 'arroz integral', 'bayas', 'zanahorias', 'queso monterey jack', 'bellota', 'caldo de verduras', 'fruta deshidratada', 'col forrajera', 'perejil', 'chile morrón', 'curry en polvo', 'frijoles negros', 'cebolla blanca', 'papa', 'pasta rotini', 'pretzels', 'condimento criollo', 'panecillos ingleses', 'cereal integral', 'huevo', 'aceite de sésamo', 'calabacita', 'pasta ramen', 'chiles verdes', 'walnuts', 'lechuga', 'consomé']\n",
      "['polvos de hornear', 'cereal de arroz tostado', 'acelga', 'menta', 'arroz moreno', 'maicena', 'caldo vegetal', 'arándanos', 'esencia de vainilla', 'coliflor', 'pasas', 'betabeles', 'puerros', 'aceite de maíz', 'tortillas de trigo integral', 'coco', 'puré de calabaza', 'jengibre', 'comino', 'elote', 'salmón', 'ajo en polvo', 'polvo de hornear', 'leche de soya', 'cerezas', 'huachinango', 'bicarbonato de soda', 'aceite de canola', 'arándanos azules', 'pimienta negra', 'bananas', 'tofu', 'salsa de chili', 'harina de maíz', 'aderezo para ensalada', 'epazote', 'condimento', 'yogur', 'canela', 'tomate guisado', 'nueces de castilla', 'gorda', 'carne molida', 'pimiento morrón', 'espaguetis', 'repollo', 'yogur de limón', 'pasta para lasaña', 'romero', 'arándanos secos', 'espárragos', 'apio', 'repollo morado', 'kielbasa', 'queso', 'kale', 'arvejas', 'condimento cajún', 'sustituto de huevo', 'tabasco', 'remolachas', 'espinaca', 'pechuga de pollo', 'fideos ramen', 'cuscús', 'hierbas italianas', 'sopa de crema de hongos', 'limón', 'crema de cacahuate']\n",
      "['pasta integral', 'cebollines', 'hojas verdes', 'salsa', 'tortilla de harina integral', 'queso mozarela', 'tomillo', 'zanahoria', 'chile morrón verde', 'yogur griego', 'cúrcuma', 'pimiento dulce', 'caracoles', 'pasta', 'caldo de vegetales', 'cereal de hojuelas de maíz', 'queso monterrey jack', 'macarrón', 'salsa de espagueti', 'miel', 'peras', 'páprika', 'cranberries', 'azúcar blanca', 'honeydew', 'semillas', 'polvo para hornear', 'chile jalapeño', 'crema de maní', 'frijoles lima', 'pimiento', 'granola', 'consomé de vegetales', 'queso cottage', 'filete de pescado', 'mantequilla de maní', 'harina', 'berenjena', 'salsa de tomate', 'chiles rojos', 'jugo de manzana', 'ralladura de limón', 'tocino', 'cilantro', 'jugo de limón', 'delicata', 'chile verde', 'aceite de oliva', 'queso mozzarella', 'yogurt', 'queso cheddar', 'sal sazonada', 'extracto de almendras', 'castañas de agua', 'carne de cerdo', 'coles de bruselas', 'queso suizo', 'azúcar morena', 'melón verde', 'aceite de ajonjolí', 'pimientos morrones', 'nuez moscada', 'claras de huevo', 'chile serrano', 'leche de almendras', 'salsa picante', 'chile molido', 'pan', 'castañas de cajú', 'aderezo ranch', 'pasta penne', 'frijoles pintos', 'cebolla verde', 'pasta de concha']\n",
      "['tomates', 'pimiento morrón verde', 'salsa para pasta', 'margarina', 'frijoles blancos', 'tilapia', 'puré de manzana', 'pimientos morrón verdes', 'arándanos rojos secos', 'mayonesa', 'salsa de arándanos rojos', 'pasta de tahini', 'frijoles rojos', 'espagueti de trigo integral', 'salsa de pepinillo', 'guisantes', 'ejotes', 'camotes', 'harina integral', 'maíz', 'plátano', 'tahini', 'jugo de mango', 'curry', 'jugo de naranja', 'aceitunas negras', 'naranjas', 'clavos de olor', 'vinagre', 'pimientos rojos', 'arroz blanco', 'eneldo', 'chile campana', 'ají en polvo', 'pimentón', 'col rizada', 'apio de campo', 'brócoli', 'frijoles refritos', 'pavo', 'sal', 'hojas de wantán', 'migajas de pan', 'cubitos de pan', 'vinagre de arroz', 'cebollín', 'pera', 'carne molida de res', 'quinoa', 'pollo', 'arroz salvaje', 'pepinos', 'caldo de pollo', 'frambuesas', 'kiwi', 'pimiento morrón rojo', 'collard greens', 'salsa para enchiladas', 'puerro', 'bicarbonato de sodio', 'avena', 'chiles', 'pan integral', 'pimientas de jamaica', 'cebolla en polvo', 'kiwis']\n",
      "['atún', 'semillas de girasol', 'jugo de lima', 'pasta de tomate', 'tortillas de harina', 'butternut', 'cebollas', 'queso parmesano', 'orzo', 'kidney', 'piña', 'azúcar', 'harina blanca', 'pepinillo', 'mostaza', 'pimiento verde', 'tortillas', 'verdura', 'hongos', 'filetes de bacalao', 'betarragas', 'pasta de semillas de sésamo', 'harina de trigo integral', 'condimento italiano', 'pimienta', 'jugo de piña', 'salsa de pizza', 'pechugas de pollo', 'cheddar', 'queso oaxaca', 'sopa de pollo', 'pimienta de cayena', 'frijoles', 'chirivía', 'pico de gallo', 'swiss chard', 'pimienta roja', 'cebolla roja', 'verduras', 'berza', 'leche evaporada', 'hojuelas de cereal', 'garbanzos', 'pimiento rojo', 'vainilla', 'carne de res', 'migas de pan', 'zucchini', 'naranja', 'consomé vegetal', 'cáscara de limón', 'frijoles mung', 'lomo de res', 'frijoles de ojo negro', 'calabacines', 'ñame', 'papas', 'vegetales', 'bacalao', 'chile pimiento', 'mango', 'jengibre en polvo', 'mandarinas', 'hortalizas verdes', 'guineo', 'frijoles kidney', 'cebada', 'moras', 'cayena', 'aguacate', 'pasta de huevo', 'filetes de pescado', 'yogur de piña colada', 'caldo', 'chicharos', 'chile en polvo', 'rotini', 'trigo bulgur']\n"
     ]
    }
   ],
   "source": [
    "import random\n",
    "\n",
    "arreglo_dict = [\n",
    "    {\n",
    "    \"nombre\": \"Cadena De ejemplo1\",\n",
    "    \"arreglo_ingredientes\": []\n",
    "},\n",
    "{\n",
    "    \"nombre\": \"Cadena De ejemplo2\",\n",
    "    \"arreglo_ingredientes\": []\n",
    "},\n",
    "{\n",
    "    \"nombre\": \"Cadena De ejemplo3\",\n",
    "    \"arreglo_ingredientes\": []\n",
    "},{\n",
    "    \"nombre\": \"Cadena De ejemplo4\",\n",
    "    \"arreglo_ingredientes\": []\n",
    "},\n",
    "{\n",
    "    \"nombre\": \"Cadena De ejemplo5\",\n",
    "    \"arreglo_ingredientes\": []\n",
    "},\n",
    "{\n",
    "    \"nombre\": \"Cadena De ejemplo6\",\n",
    "    \"arreglo_ingredientes\": []\n",
    "}]\n",
    "\n",
    "for ingrediente in ingredientes:\n",
    "    pos_random = random.randint(0,len(arreglo_dict)-1)\n",
    "    arreglo_dict[pos_random][\"arreglo_ingredientes\"].append(ingrediente)\n",
    "\n",
    "for elem in arreglo_dict:\n",
    "    print(elem[\"arreglo_ingredientes\"])\n"
   ]
  }
 ],
 "metadata": {
  "kernelspec": {
   "display_name": "venv",
   "language": "python",
   "name": "python3"
  },
  "language_info": {
   "codemirror_mode": {
    "name": "ipython",
    "version": 3
   },
   "file_extension": ".py",
   "mimetype": "text/x-python",
   "name": "python",
   "nbconvert_exporter": "python",
   "pygments_lexer": "ipython3",
   "version": "3.12.6"
  }
 },
 "nbformat": 4,
 "nbformat_minor": 2
}
